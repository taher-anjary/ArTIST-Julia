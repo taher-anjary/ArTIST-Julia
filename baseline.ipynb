{
 "cells": [
  {
   "cell_type": "code",
   "execution_count": 2,
   "metadata": {},
   "outputs": [
    {
     "data": {
      "text/plain": [
       "keepdim (generic function with 1 method)"
      ]
     },
     "execution_count": 2,
     "metadata": {},
     "output_type": "execute_result"
    }
   ],
   "source": [
    "function rect_min_max(r)\n",
    "    x1y1 = r[:,1:2]\n",
    "    x2y2 = x1y1.+r[:,3:end]\n",
    "    x1y1,x2y2\n",
    "end\n",
    "\n",
    "function box_iou(o,h)\n",
    "    o1, o2 = rect_min_max(o)\n",
    "    h1, h2 = rect_min_max(h)\n",
    "    \n",
    "    o1 = reshape(o1,(size(o1)[1],1,size(o1)[2]))\n",
    "    o2 = reshape(o2,(size(o2)[1],1,size(o2)[2]))\n",
    "    h1 = reshape(h1,(1,size(h1)...))\n",
    "    h2 = reshape(h2,(1,size(h2)...))\n",
    "    \n",
    "    i_min = max.(o1,h1)\n",
    "    i_max = min.(o2,h2)\n",
    "    \n",
    "    i_size = max.(i_max.-i_min, 0)\n",
    "    i_vol = i_size[:,:,1].*i_size[:,:,2]\n",
    "    \n",
    "    # Get volume of union.\n",
    "    o_size = max.(o2 .- o1, 0)\n",
    "    h_size = max.(h2 .- h1, 0)\n",
    "    o_vol = o_size[:,:,1].*o_size[:,:,2]\n",
    "    h_vol = h_size[:,:,1].*h_size[:,:,2]\n",
    "    u_vol = o_vol .+ h_vol .- i_vol\n",
    "    \n",
    "    i_vol./u_vol\n",
    "end\n",
    "\n",
    "function iou_matrix(objs,hyps)\n",
    "    if size(objs)[1] == 0 || size(hyps)[1] == 0\n",
    "        return nothing\n",
    "    end\n",
    "    box_iou(objs,hyps)\n",
    "end\n",
    "\n",
    "keepdim(x) = reshape(x,1,size(x)[1])"
   ]
  },
  {
   "cell_type": "code",
   "execution_count": null,
   "metadata": {},
   "outputs": [],
   "source": [
    "using DelimitedFiles\n",
    "\n",
    "seqs = [\"MOT17-02-DPM\", \"MOT17-02-SDP\", \"MOT17-02-FRCNN\", \"MOT17-04-DPM\", \"MOT17-04-SDP\", \"MOT17-04-FRCNN\", \"MOT17-05-DPM\", \"MOT17-05-SDP\", \"MOT17-05-FRCNN\", \"MOT17-09-DPM\", \"MOT17-09-SDP\", \"MOT17-09-FRCNN\",\"MOT17-10-DPM\", \"MOT17-10-SDP\", \"MOT17-10-FRCNN\", \"MOT17-11-DPM\", \"MOT17-11-SDP\", \"MOT17-11-FRCNN\", \"MOT17-13-DPM\", \"MOT17-13-SDP\", \"MOT17-13-FRCNN\"]\n",
    "#seq = \"MOT17-02-DPM\"\n",
    "for seq in seqs\n",
    "    dets = readdlm(\"data/MOT17/train/\"*seq*\"/det/det.txt\", ',', '\\n')\n",
    "\n",
    "    frames = unique(dets[:,1])\n",
    "\n",
    "    active_tracks = []\n",
    "    finished_tracks = []\n",
    "\n",
    "    for frame in frames\n",
    "        frame_dets = dets[dets[:,1].==frame,:]\n",
    "        updated_tracks = []\n",
    "\n",
    "        for track in active_tracks\n",
    "            if size(frame_dets)[1] > 0\n",
    "                ious = iou_matrix(keepdim(track[end][3:6]),frame_dets[:,3:6])\n",
    "                bi = findmax(ious)[2][2]                # index of best frame_det\n",
    "                push!(track,frame_dets[bi,:])           # assign det to track\n",
    "                push!(updated_tracks, track)            # so we know which tracks were updated now\n",
    "                frame_dets = frame_dets[1:end .!= bi,:] # delete the det\n",
    "            end\n",
    "\n",
    "        end\n",
    "\n",
    "        # create new tracks\n",
    "        if length(updated_tracks) != 0\n",
    "            for updated_track in updated_tracks\n",
    "                push!(active_tracks,updated_track)\n",
    "            end\n",
    "        end\n",
    "        if size(frame_dets)[1] != 0\n",
    "            for new_track in eachrow(frame_dets)\n",
    "                push!(active_tracks,push!([],new_track[:]))\n",
    "            end\n",
    "        end\n",
    "    end\n",
    "\n",
    "    for active_track in active_tracks\n",
    "        push!(finished_tracks, active_track)\n",
    "    end\n",
    "\n",
    "    # write IDs\n",
    "    for ti in 1:size(finished_tracks,1)\n",
    "        for di in 1:size(finished_tracks[ti],1)\n",
    "            finished_tracks[ti][di][2] = ti\n",
    "        end\n",
    "    end\n",
    "    \n",
    "    # save results\n",
    "    open(string(\"results/\",seq,\".txt\"), \"w\") do io\n",
    "        writedlm(io, vcat(finished_tracks),'\\n')\n",
    "    end\n",
    "end"
   ]
  },
  {
   "cell_type": "code",
   "execution_count": 31,
   "metadata": {},
   "outputs": [],
   "source": []
  },
  {
   "cell_type": "code",
   "execution_count": 23,
   "metadata": {},
   "outputs": [
    {
     "ename": "LoadError",
     "evalue": "MethodError: no method matching +(::String, ::String)\n\u001b[0mClosest candidates are:\n\u001b[0m  +(::Any, ::Any, \u001b[91m::Any\u001b[39m, \u001b[91m::Any...\u001b[39m) at operators.jl:560",
     "output_type": "error",
     "traceback": [
      "MethodError: no method matching +(::String, ::String)\n\u001b[0mClosest candidates are:\n\u001b[0m  +(::Any, ::Any, \u001b[91m::Any\u001b[39m, \u001b[91m::Any...\u001b[39m) at operators.jl:560",
      "",
      "Stacktrace:",
      " [1] top-level scope",
      "   @ In[23]:1",
      " [2] eval",
      "   @ ./boot.jl:360 [inlined]",
      " [3] include_string(mapexpr::typeof(REPL.softscope), mod::Module, code::String, filename::String)",
      "   @ Base ./loading.jl:1116"
     ]
    }
   ],
   "source": [
    "seq+\"txt\""
   ]
  },
  {
   "cell_type": "code",
   "execution_count": 16,
   "metadata": {},
   "outputs": [
    {
     "name": "stderr",
     "output_type": "stream",
     "text": [
      "\u001b[32m\u001b[1m    Updating\u001b[22m\u001b[39m registry at `~/.julia/registries/General`\n",
      "\u001b[32m\u001b[1m   Resolving\u001b[22m\u001b[39m package versions...\n",
      "\u001b[32m\u001b[1m    Updating\u001b[22m\u001b[39m `/scratch/users/tanjary21/.julia/environments/v1.6/Project.toml`\n",
      " \u001b[90m [8f4d0f93] \u001b[39m\u001b[92m+ Conda v1.5.2\u001b[39m\n",
      "\u001b[32m\u001b[1m  No Changes\u001b[22m\u001b[39m to `/scratch/users/tanjary21/.julia/environments/v1.6/Manifest.toml`\n"
     ]
    }
   ],
   "source": [
    "import Pkg\n",
    "Pkg.add(\"Conda\")\n",
    "using Conda"
   ]
  },
  {
   "cell_type": "code",
   "execution_count": 20,
   "metadata": {},
   "outputs": [
    {
     "name": "stderr",
     "output_type": "stream",
     "text": [
      "\u001b[32m\u001b[1m   Resolving\u001b[22m\u001b[39m package versions...\n",
      "\u001b[32m\u001b[1m   Installed\u001b[22m\u001b[39m MacroTools ─ v0.5.9\n",
      "\u001b[32m\u001b[1m   Installed\u001b[22m\u001b[39m PyCall ───── v1.92.5\n",
      "\u001b[32m\u001b[1m    Updating\u001b[22m\u001b[39m `/scratch/users/tanjary21/.julia/environments/v1.6/Project.toml`\n",
      " \u001b[90m [438e738f] \u001b[39m\u001b[92m+ PyCall v1.92.5\u001b[39m\n",
      "\u001b[32m\u001b[1m    Updating\u001b[22m\u001b[39m `/scratch/users/tanjary21/.julia/environments/v1.6/Manifest.toml`\n",
      " \u001b[90m [1914dd2f] \u001b[39m\u001b[92m+ MacroTools v0.5.9\u001b[39m\n",
      " \u001b[90m [438e738f] \u001b[39m\u001b[92m+ PyCall v1.92.5\u001b[39m\n",
      "\u001b[32m\u001b[1m    Building\u001b[22m\u001b[39m PyCall → `~/.julia/scratchspaces/44cfe95a-1eb2-52ea-b672-e2afdf69b78f/4ba3651d33ef76e24fef6a598b63ffd1c5e1cd17/build.log`\n",
      "\u001b[32m\u001b[1mPrecompiling\u001b[22m\u001b[39m project...\n",
      "\u001b[32m  ✓ \u001b[39m\u001b[90mMacroTools\u001b[39m\n",
      "\u001b[32m  ✓ \u001b[39mPyCall\n",
      "  2 dependencies successfully precompiled in 12 seconds (16 already precompiled)\n"
     ]
    }
   ],
   "source": [
    "Pkg.add(\"PyCall\")"
   ]
  },
  {
   "cell_type": "code",
   "execution_count": 28,
   "metadata": {},
   "outputs": [
    {
     "name": "stderr",
     "output_type": "stream",
     "text": [
      "┌ Info: Running `conda config --add channels loopbio --file /kuacc/users/tanjary21/.julia/conda/3/condarc-julia.yml --force` in root environment\n",
      "└ @ Conda /kuacc/users/tanjary21/.julia/packages/Conda/sNGum/src/Conda.jl:128\n",
      "Warning: 'loopbio' already in 'channels' list, moving to the top\n",
      "┌ Info: Running `conda install -y motmetrics` in root environment\n",
      "└ @ Conda /kuacc/users/tanjary21/.julia/packages/Conda/sNGum/src/Conda.jl:128\n"
     ]
    },
    {
     "name": "stdout",
     "output_type": "stream",
     "text": [
      "Collecting package metadata (current_repodata.json): ...working... done\n",
      "Solving environment: ...working... failed with initial frozen solve. Retrying with flexible solve.\n",
      "Solving environment: ...working... failed with repodata from current_repodata.json, will retry with next repodata source.\n",
      "Collecting package metadata (repodata.json): ...working... done\n",
      "Solving environment: ...working... failed with initial frozen solve. Retrying with flexible solve.\n",
      "Solving environment: ...working... "
     ]
    },
    {
     "name": "stderr",
     "output_type": "stream",
     "text": [
      "Examining conflict for python motmetrics:   0%|          | 0/7 [00:00<?, ?it/s]"
     ]
    },
    {
     "name": "stdout",
     "output_type": "stream",
     "text": [
      "\n",
      "Found conflicts! Looking for incompatible packages.\n",
      "This can take several minutes.  Press CTRL-C to abort.\n",
      "failed\n"
     ]
    },
    {
     "name": "stderr",
     "output_type": "stream",
     "text": [
      "\r",
      "Examining conflict for __glibc python:  14%|▋    | 1/7 [00:00<00:02,  2.81it/s]\r",
      "Examining conflict for __glibc python:  29%|█▍   | 2/7 [00:00<00:00,  5.61it/s]\r",
      "                                                                               \r\n",
      "UnsatisfiableError: The following specifications were found to be incompatible with each other:\n",
      "\n",
      "Output in format: Requested package -> Available versionsThe following specifications were found to be incompatible with your system:\n",
      "\n",
      "  - feature:/linux-64::__glibc==2.17=0\n",
      "  - feature:|@/linux-64::__glibc==2.17=0\n",
      "\n",
      "Your installed version is: 2.17\n",
      "\n",
      "\n"
     ]
    },
    {
     "ename": "LoadError",
     "evalue": "failed process: Process(setenv(`\u001b[4m/kuacc/users/tanjary21/.julia/conda/3/bin/conda\u001b[24m \u001b[4minstall\u001b[24m \u001b[4m-y\u001b[24m \u001b[4mmotmetrics\u001b[24m`,[\"PATH=/kuacc/apps/anaconda/3.6/bin:/kuacc/apps/anaconda/3.6:/usr/lib64/qt-3.3/bin:/usr/local/bin:/usr/bin:/usr/local/sbin:/usr/sbin:/kuacc/apps/scripts:/kuacc/users/tanjary21/.local/bin:/kuacc/users/tanjary21/bin\", \"SLURM_TASKS_PER_NODE=4\", \"SLURM_NODEID=0\", \"SLURM_JOB_GID=200513\", \"SLURM_JOB_NAME=J_J\", \"QTDIR=/usr/lib64/qt-3.3\", \"SLURM_JOBID=2541977\", \"MODULEPATH=/kuacc/etc/mod\", \"SLURM_MEM_PER_NODE=20480\", \"USER=tanjary21\"  …  \"MAIL=/var/spool/mail/tanjary21\", \"CONDA_PREFIX=/kuacc/users/tanjary21/.julia/conda/3\", \"LC_NAME=tr_TR.UTF-8\", \"XDG_SESSION_ID=40578\", \"KDEDIRS=/usr\", \"LC_IDENTIFICATION=tr_TR.UTF-8\", \"SLURM_PROCID=0\", \"SLURM_NNODES=1\", \"LS_COLORS=rs=0:di=38;5;27:ln=38;5;51:mh=44;38;5;15:pi=40;38;5;11:so=38;5;13:do=38;5;5:bd=48;5;232;38;5;11:cd=48;5;232;38;5;3:or=48;5;232;38;5;9:mi=05;48;5;232;38;5;15:su=48;5;196;38;5;15:sg=48;5;11;38;5;16:ca=48;5;196;38;5;226:tw=48;5;10;38;5;16:ow=48;5;10;38;5;21:st=48;5;21;38;5;15:ex=38;5;34:*.tar=38;5;9:*.tgz=38;5;9:*.arc=38;5;9:*.arj=38;5;9:*.taz=38;5;9:*.lha=38;5;9:*.lz4=38;5;9:*.lzh=38;5;9:*.lzma=38;5;9:*.tlz=38;5;9:*.txz=38;5;9:*.tzo=38;5;9:*.t7z=38;5;9:*.zip=38;5;9:*.z=38;5;9:*.Z=38;5;9:*.dz=38;5;9:*.gz=38;5;9:*.lrz=38;5;9:*.lz=38;5;9:*.lzo=38;5;9:*.xz=38;5;9:*.bz2=38;5;9:*.bz=38;5;9:*.tbz=38;5;9:*.tbz2=38;5;9:*.tz=38;5;9:*.deb=38;5;9:*.rpm=38;5;9:*.jar=38;5;9:*.war=38;5;9:*.ear=38;5;9:*.sar=38;5;9:*.rar=38;5;9:*.alz=38;5;9:*.ace=38;5;9:*.zoo=38;5;9:*.cpio=38;5;9:*.7z=38;5;9:*.rz=38;5;9:*.cab=38;5;9:*.jpg=38;5;13:*.jpeg=38;5;13:*.gif=38;5;13:*.bmp=38;5;13:*.pbm=38;5;13:*.pgm=38;5;13:*.ppm=38;5;13:*.tga=38;5;13:*.xbm=38;5;13:*.xpm=38;5;13:*.tif=38;5;13:*.tiff=38;5;13:*.png=38;5;13:*.svg=38;5;13:*.svgz=38;5;13:*.mng=38;5;13:*.pcx=38;5;13:*.mov=38;5;13:*.mpg=38;5;13:*.mpeg=38;5;13:*.m2v=38;5;13:*.mkv=38;5;13:*.webm=38;5;13:*.ogm=38;5;13:*.mp4=38;5;13:*.m4v=38;5;13:*.mp4v=38;5;13:*.vob=38;5;13:*.qt=38;5;13:*.nuv=38;5;13:*.wmv=38;5;13:*.asf=38;5;13:*.rm=38;5;13:*.rmvb=38;5;13:*.flc=38;5;13:*.avi=38;5;13:*.fli=38;5;13:*.flv=38;5;13:*.gl=38;5;13:*.dl=38;5;13:*.xcf=38;5;13:*.xwd=38;5;13:*.yuv=38;5;13:*.cgm=38;5;13:*.emf=38;5;13:*.axv=38;5;13:*.anx=38;5;13:*.ogv=38;5;13:*.ogx=38;5;13:*.aac=38;5;45:*.au=38;5;45:*.flac=38;5;45:*.mid=38;5;45:*.midi=38;5;45:*.mka=38;5;45:*.mp3=38;5;45:*.mpc=38;5;45:*.ogg=38;5;45:*.ra=38;5;45:*.wav=38;5;45:*.axa=38;5;45:*.oga=38;5;45:*.spx=38;5;45:*.xspf=38;5;45:\", \"OPENBLAS_MAIN_FREE=1\"]), ProcessExited(1)) [1]\n",
     "output_type": "error",
     "traceback": [
      "failed process: Process(setenv(`\u001b[4m/kuacc/users/tanjary21/.julia/conda/3/bin/conda\u001b[24m \u001b[4minstall\u001b[24m \u001b[4m-y\u001b[24m \u001b[4mmotmetrics\u001b[24m`,[\"PATH=/kuacc/apps/anaconda/3.6/bin:/kuacc/apps/anaconda/3.6:/usr/lib64/qt-3.3/bin:/usr/local/bin:/usr/bin:/usr/local/sbin:/usr/sbin:/kuacc/apps/scripts:/kuacc/users/tanjary21/.local/bin:/kuacc/users/tanjary21/bin\", \"SLURM_TASKS_PER_NODE=4\", \"SLURM_NODEID=0\", \"SLURM_JOB_GID=200513\", \"SLURM_JOB_NAME=J_J\", \"QTDIR=/usr/lib64/qt-3.3\", \"SLURM_JOBID=2541977\", \"MODULEPATH=/kuacc/etc/mod\", \"SLURM_MEM_PER_NODE=20480\", \"USER=tanjary21\"  …  \"MAIL=/var/spool/mail/tanjary21\", \"CONDA_PREFIX=/kuacc/users/tanjary21/.julia/conda/3\", \"LC_NAME=tr_TR.UTF-8\", \"XDG_SESSION_ID=40578\", \"KDEDIRS=/usr\", \"LC_IDENTIFICATION=tr_TR.UTF-8\", \"SLURM_PROCID=0\", \"SLURM_NNODES=1\", \"LS_COLORS=rs=0:di=38;5;27:ln=38;5;51:mh=44;38;5;15:pi=40;38;5;11:so=38;5;13:do=38;5;5:bd=48;5;232;38;5;11:cd=48;5;232;38;5;3:or=48;5;232;38;5;9:mi=05;48;5;232;38;5;15:su=48;5;196;38;5;15:sg=48;5;11;38;5;16:ca=48;5;196;38;5;226:tw=48;5;10;38;5;16:ow=48;5;10;38;5;21:st=48;5;21;38;5;15:ex=38;5;34:*.tar=38;5;9:*.tgz=38;5;9:*.arc=38;5;9:*.arj=38;5;9:*.taz=38;5;9:*.lha=38;5;9:*.lz4=38;5;9:*.lzh=38;5;9:*.lzma=38;5;9:*.tlz=38;5;9:*.txz=38;5;9:*.tzo=38;5;9:*.t7z=38;5;9:*.zip=38;5;9:*.z=38;5;9:*.Z=38;5;9:*.dz=38;5;9:*.gz=38;5;9:*.lrz=38;5;9:*.lz=38;5;9:*.lzo=38;5;9:*.xz=38;5;9:*.bz2=38;5;9:*.bz=38;5;9:*.tbz=38;5;9:*.tbz2=38;5;9:*.tz=38;5;9:*.deb=38;5;9:*.rpm=38;5;9:*.jar=38;5;9:*.war=38;5;9:*.ear=38;5;9:*.sar=38;5;9:*.rar=38;5;9:*.alz=38;5;9:*.ace=38;5;9:*.zoo=38;5;9:*.cpio=38;5;9:*.7z=38;5;9:*.rz=38;5;9:*.cab=38;5;9:*.jpg=38;5;13:*.jpeg=38;5;13:*.gif=38;5;13:*.bmp=38;5;13:*.pbm=38;5;13:*.pgm=38;5;13:*.ppm=38;5;13:*.tga=38;5;13:*.xbm=38;5;13:*.xpm=38;5;13:*.tif=38;5;13:*.tiff=38;5;13:*.png=38;5;13:*.svg=38;5;13:*.svgz=38;5;13:*.mng=38;5;13:*.pcx=38;5;13:*.mov=38;5;13:*.mpg=38;5;13:*.mpeg=38;5;13:*.m2v=38;5;13:*.mkv=38;5;13:*.webm=38;5;13:*.ogm=38;5;13:*.mp4=38;5;13:*.m4v=38;5;13:*.mp4v=38;5;13:*.vob=38;5;13:*.qt=38;5;13:*.nuv=38;5;13:*.wmv=38;5;13:*.asf=38;5;13:*.rm=38;5;13:*.rmvb=38;5;13:*.flc=38;5;13:*.avi=38;5;13:*.fli=38;5;13:*.flv=38;5;13:*.gl=38;5;13:*.dl=38;5;13:*.xcf=38;5;13:*.xwd=38;5;13:*.yuv=38;5;13:*.cgm=38;5;13:*.emf=38;5;13:*.axv=38;5;13:*.anx=38;5;13:*.ogv=38;5;13:*.ogx=38;5;13:*.aac=38;5;45:*.au=38;5;45:*.flac=38;5;45:*.mid=38;5;45:*.midi=38;5;45:*.mka=38;5;45:*.mp3=38;5;45:*.mpc=38;5;45:*.ogg=38;5;45:*.ra=38;5;45:*.wav=38;5;45:*.axa=38;5;45:*.oga=38;5;45:*.spx=38;5;45:*.xspf=38;5;45:\", \"OPENBLAS_MAIN_FREE=1\"]), ProcessExited(1)) [1]\n",
      "",
      "Stacktrace:",
      " [1] pipeline_error",
      "   @ ./process.jl:525 [inlined]",
      " [2] run(::Cmd; wait::Bool)",
      "   @ Base ./process.jl:440",
      " [3] run",
      "   @ ./process.jl:438 [inlined]",
      " [4] runconda(args::Cmd, env::String)",
      "   @ Conda ~/.julia/packages/Conda/sNGum/src/Conda.jl:129",
      " [5] add(pkg::String, env::String; channel::String)",
      "   @ Conda ~/.julia/packages/Conda/sNGum/src/Conda.jl:221",
      " [6] add (repeats 2 times)",
      "   @ ~/.julia/packages/Conda/sNGum/src/Conda.jl:220 [inlined]",
      " [7] top-level scope",
      "   @ In[28]:2",
      " [8] eval",
      "   @ ./boot.jl:360 [inlined]",
      " [9] include_string(mapexpr::typeof(REPL.softscope), mod::Module, code::String, filename::String)",
      "   @ Base ./loading.jl:1116"
     ]
    }
   ],
   "source": [
    "Conda.add_channel(\"loopbio\")\n",
    "Conda.add(\"motmetrics\")"
   ]
  },
  {
   "cell_type": "code",
   "execution_count": null,
   "metadata": {},
   "outputs": [],
   "source": []
  }
 ],
 "metadata": {
  "kernelspec": {
   "display_name": "Julia 1.6.3",
   "language": "julia",
   "name": "julia-1.6"
  },
  "language_info": {
   "file_extension": ".jl",
   "mimetype": "application/julia",
   "name": "julia",
   "version": "1.6.3"
  }
 },
 "nbformat": 4,
 "nbformat_minor": 2
}
