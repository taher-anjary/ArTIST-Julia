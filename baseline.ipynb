{
 "cells": [
  {
   "cell_type": "code",
   "execution_count": null,
   "metadata": {},
   "outputs": [],
   "source": [
    "import Pkg\n",
    "Pkg.add(\"PyCall\")\n",
    "Pkg.add(\"Conda\")\n",
    "Pkg.add(\"Hungarian\")\n",
    "Conda.add_channel(\"loopbio\")\n",
    "Conda.add(\"motmetrics\")\n",
    "\n",
    "using Conda\n",
    "using Hungarian"
   ]
  },
  {
   "cell_type": "code",
   "execution_count": 2,
   "metadata": {},
   "outputs": [
    {
     "data": {
      "text/plain": [
       "keepdim (generic function with 1 method)"
      ]
     },
     "execution_count": 2,
     "metadata": {},
     "output_type": "execute_result"
    }
   ],
   "source": [
    "function rect_min_max(r)\n",
    "    x1y1 = r[:,1:2]\n",
    "    x2y2 = x1y1.+r[:,3:end]\n",
    "    x1y1,x2y2\n",
    "end\n",
    "\n",
    "function box_iou(o,h)\n",
    "    o1, o2 = rect_min_max(o)\n",
    "    h1, h2 = rect_min_max(h)\n",
    "    \n",
    "    o1 = reshape(o1,(size(o1)[1],1,size(o1)[2]))\n",
    "    o2 = reshape(o2,(size(o2)[1],1,size(o2)[2]))\n",
    "    h1 = reshape(h1,(1,size(h1)...))\n",
    "    h2 = reshape(h2,(1,size(h2)...))\n",
    "    \n",
    "    i_min = max.(o1,h1)\n",
    "    i_max = min.(o2,h2)\n",
    "    \n",
    "    i_size = max.(i_max.-i_min, 0)\n",
    "    i_vol = i_size[:,:,1].*i_size[:,:,2]\n",
    "    \n",
    "    # Get volume of union.\n",
    "    o_size = max.(o2 .- o1, 0)\n",
    "    h_size = max.(h2 .- h1, 0)\n",
    "    o_vol = o_size[:,:,1].*o_size[:,:,2]\n",
    "    h_vol = h_size[:,:,1].*h_size[:,:,2]\n",
    "    u_vol = o_vol .+ h_vol .- i_vol\n",
    "    \n",
    "    i_vol./u_vol\n",
    "end\n",
    "\n",
    "function iou_matrix(objs,hyps)\n",
    "    if size(objs)[1] == 0 || size(hyps)[1] == 0\n",
    "        return nothing\n",
    "    end\n",
    "    box_iou(objs,hyps)\n",
    "end\n",
    "\n",
    "keepdim(x) = reshape(x,1,size(x)[1])"
   ]
  },
  {
   "cell_type": "code",
   "execution_count": 33,
   "metadata": {},
   "outputs": [],
   "source": [
    "using DelimitedFiles\n",
    "\n",
    "seqs = [\"MOT17-02-DPM\", \"MOT17-02-SDP\", \"MOT17-02-FRCNN\", \"MOT17-04-DPM\", \"MOT17-04-SDP\", \"MOT17-04-FRCNN\", \"MOT17-05-DPM\", \"MOT17-05-SDP\", \"MOT17-05-FRCNN\", \"MOT17-09-DPM\", \"MOT17-09-SDP\", \"MOT17-09-FRCNN\",\"MOT17-10-DPM\", \"MOT17-10-SDP\", \"MOT17-10-FRCNN\", \"MOT17-11-DPM\", \"MOT17-11-SDP\", \"MOT17-11-FRCNN\", \"MOT17-13-DPM\", \"MOT17-13-SDP\", \"MOT17-13-FRCNN\"]\n",
    "#seq = \"MOT17-02-DPM\"\n",
    "for seq in seqs\n",
    "    dets = readdlm(\"data/MOT17/train/\"*seq*\"/det/det.txt\", ',', '\\n')\n",
    "\n",
    "    frames = unique(dets[:,1])\n",
    "\n",
    "    active_tracks = []\n",
    "    finished_tracks = []\n",
    "    for frame in frames\n",
    "        frame_dets = dets[dets[:,1].==frame,:]\n",
    "        updated_tracks = []\n",
    "\n",
    "        for track in active_tracks\n",
    "            if size(frame_dets)[1] > 0\n",
    "                ious = iou_matrix(keepdim(track[end][3:6]),frame_dets[:,3:6])\n",
    "                bi = findmax(ious)[2][2]                # index of best frame_det\n",
    "                push!(track,frame_dets[bi,:])           # assign det to track\n",
    "                push!(updated_tracks, track)            # so we know which tracks were updated now\n",
    "                frame_dets = frame_dets[1:end .!= bi,:] # delete the det\n",
    "            end\n",
    "\n",
    "        end\n",
    "\n",
    "        # create new tracks\n",
    "        if length(updated_tracks) != 0\n",
    "            for updated_track in updated_tracks\n",
    "                push!(active_tracks,updated_track)\n",
    "            end\n",
    "        end\n",
    "        if size(frame_dets)[1] != 0\n",
    "            for new_track in eachrow(frame_dets)\n",
    "                push!(active_tracks,push!([],new_track[:]))\n",
    "            end\n",
    "        end\n",
    "    end\n",
    "\n",
    "    for active_track in active_tracks\n",
    "        push!(finished_tracks, active_track)\n",
    "    end\n",
    "\n",
    "    # write IDs\n",
    "    for ti in 1:size(finished_tracks,1)\n",
    "        for di in 1:size(finished_tracks[ti],1)\n",
    "            finished_tracks[ti][di][2] = ti\n",
    "        end\n",
    "    end\n",
    "    \n",
    "    # save results\n",
    "    open(string(\"results/\",seq,\".txt\"), \"w\") do io\n",
    "        writedlm(io, vcat(finished_tracks),'\\n')\n",
    "    end\n",
    "end"
   ]
  }
 ],
 "metadata": {
  "kernelspec": {
   "display_name": "Julia 1.6.3",
   "language": "julia",
   "name": "julia-1.6"
  },
  "language_info": {
   "file_extension": ".jl",
   "mimetype": "application/julia",
   "name": "julia",
   "version": "1.6.3"
  }
 },
 "nbformat": 4,
 "nbformat_minor": 2
}
